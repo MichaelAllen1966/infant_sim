{
 "cells": [
  {
   "cell_type": "markdown",
   "id": "dbbcdf5e-0410-4352-b117-fab970ad3c35",
   "metadata": {},
   "source": [
    "# Random forest model using multiple day observations"
   ]
  },
  {
   "cell_type": "markdown",
   "id": "5d9a07a9-a6d9-48c4-88b6-a76633eea85a",
   "metadata": {},
   "source": [
    "## Import libraries"
   ]
  },
  {
   "cell_type": "code",
   "execution_count": 1,
   "id": "ce6ec6c0-8423-4a80-906c-ab436c2bfbb8",
   "metadata": {},
   "outputs": [
    {
     "name": "stderr",
     "output_type": "stream",
     "text": [
      "Intel(R) Extension for Scikit-learn* enabled (https://github.com/intel/scikit-learn-intelex)\n"
     ]
    }
   ],
   "source": [
    "# Accelerate scikit learn\n",
    "from sklearnex import patch_sklearn\n",
    "patch_sklearn()"
   ]
  },
  {
   "cell_type": "code",
   "execution_count": 2,
   "id": "a7c8d83d-97d1-4bdf-8078-80f308816dfc",
   "metadata": {},
   "outputs": [],
   "source": [
    "import matplotlib.pyplot as plt\n",
    "import numpy as np\n",
    "import pandas as pd\n",
    "import random\n",
    "from sklearn.ensemble import RandomForestClassifier"
   ]
  },
  {
   "cell_type": "markdown",
   "id": "5ed9db56-8e46-4c6c-9aa4-d09395637fa4",
   "metadata": {},
   "source": [
    "## Load data"
   ]
  },
  {
   "cell_type": "code",
   "execution_count": 3,
   "id": "a249ce8a-f039-41f7-84f4-9dba4e708120",
   "metadata": {},
   "outputs": [],
   "source": [
    "data = pd.read_csv('../output/sim_1_zero_onset.csv')"
   ]
  },
  {
   "cell_type": "markdown",
   "id": "7e8c8cee-2a0e-4283-8607-62f9b2a79164",
   "metadata": {},
   "source": [
    "## Reformat data to group by patient ID"
   ]
  },
  {
   "cell_type": "code",
   "execution_count": 4,
   "id": "480d7d74-4bc1-4997-bb76-b6534905c225",
   "metadata": {},
   "outputs": [],
   "source": [
    "data_arrays = []\n",
    "\n",
    "for name, group in data.groupby('patient_id'):\n",
    "    infant_data = dict()\n",
    "    X_fields = ['gi', 'pulmonary', 'brain']\n",
    "    infant_data['patient_id'] = name\n",
    "    for field in X_fields:\n",
    "        infant_data[field] = group[field].values\n",
    "        infant_data['died'] = group['died'].values\n",
    "        infant_data['condition'] = group['condition'].values[0]\n",
    "        infant_data['condition_active'] = group['condition_active'].values\n",
    "    data_arrays.append(infant_data)\n",
    "\n",
    "data_arrays = pd.DataFrame(data_arrays)"
   ]
  },
  {
   "cell_type": "code",
   "execution_count": 5,
   "id": "60856431-ec1d-45e8-b1b1-8a440b6bcc29",
   "metadata": {},
   "outputs": [],
   "source": [
    "results = []\n",
    "days = np.arange(1,50,1)\n",
    "\n",
    "for day in days:\n",
    "    restricted_data = pd.DataFrame()\n",
    "    \n",
    "    # Add patient_id and conditions\n",
    "    restricted_data['patient_id'] = data_arrays['patient_id']\n",
    "    restricted_data['condition'] = data_arrays['condition']\n",
    "    \n",
    "    # Truncate X by the max day\n",
    "    X_fields = ['gi', 'pulmonary', 'brain']\n",
    "    f = lambda x: x[0:day]\n",
    "    for field in X_fields:\n",
    "        restricted_data[field] = data_arrays[field].map(f)\n",
    "        \n",
    "    # Truncate data on died and find max\n",
    "    died = data_arrays['died'].map(f)\n",
    "    f = lambda x: np.max(x[0:day])\n",
    "    restricted_data['died'] = died.map(f)\n",
    "    \n",
    "    # Remove infants who have died\n",
    "    mask = restricted_data['died'] == 0\n",
    "    restricted_data = restricted_data[mask]\n",
    "        \n",
    "    # Combine all X data fileds into a single array\n",
    "    X_data = restricted_data[X_fields].values\n",
    "    combined = []\n",
    "    for row in X_data:\n",
    "        combined.append(np.concatenate(row))\n",
    "    restricted_data['combined_x'] = combined\n",
    "    \n",
    "     # Use boot strap k_folds\n",
    "    for k in range(30):\n",
    "            \n",
    "        # Split into train and test\n",
    "        ids = list(set(restricted_data['patient_id']))\n",
    "        random.shuffle(ids)\n",
    "        count_ids = len(ids)\n",
    "        train_count = int(count_ids) * 0.8\n",
    "        train_ids = ids[0:(int(train_count))]\n",
    "        test_ids = ids[(int(train_count)):]\n",
    "        \n",
    "        f = lambda x: x in train_ids\n",
    "        mask = restricted_data['patient_id'].map(f)\n",
    "        train = restricted_data[mask]\n",
    "        f = lambda x: x in test_ids\n",
    "        mask = restricted_data['patient_id'].map(f)\n",
    "        test = restricted_data[mask]\n",
    "        \n",
    "        # Get X and y\n",
    "        X_train = train['combined_x'].values\n",
    "        X_test = test['combined_x'].values\n",
    "        y_train = train['condition']\n",
    "        y_test = test['condition']\n",
    "            \n",
    "        # Convert from object to array\n",
    "        X_train = np.array(list(X_train[:]), dtype=float)\n",
    "        X_test = np.array(list(X_test[:]), dtype=float)\n",
    "\n",
    "        # Fit model\n",
    "        model = RandomForestClassifier(n_jobs=-1)\n",
    "        model.fit(X_train, y_train)\n",
    "\n",
    "        # Get accuracy and probabiltiies\n",
    "        y_pred_test = model.predict(X_test)\n",
    "        y_pred_prob = []\n",
    "        prob = model.predict_proba(X_test)\n",
    "        for indx, p in enumerate(prob):\n",
    "            y_pred_prob.append(p[y_pred_test[indx]])\n",
    "        accuracy = np.mean(y_pred_test == y_test)\n",
    "        mean_probability = np.mean(y_pred_prob)\n",
    "        day_results = dict()\n",
    "        day_results['day'] = day\n",
    "        day_results['k_fold'] = k\n",
    "        day_results['accuracy'] = accuracy\n",
    "        day_results['mean_probability'] = mean_probability\n",
    "        results.append(day_results)\n",
    "        \n",
    "        del model\n",
    "    \n",
    "results = pd.DataFrame(results)    \n",
    "\n",
    "# Calculate mean results\n",
    "cols_without_kfold = list(results); cols_without_kfold.remove('k_fold')\n",
    "cols_to_average = ['day']\n",
    "av_results = results[cols_without_kfold].groupby(cols_to_average).mean()\n",
    "av_results = av_results.reset_index()"
   ]
  },
  {
   "cell_type": "code",
   "execution_count": 6,
   "id": "6fbb1ba9-7ded-4098-98cc-99766003b203",
   "metadata": {},
   "outputs": [
    {
     "data": {
      "image/png": "[encoded data removed]",
      "text/plain": [
       "<Figure size 360x360 with 1 Axes>"
      ]
     },
     "metadata": {},
     "output_type": "display_data"
    }
   ],
   "source": [
    "# Set up figure\n",
    "fig = plt.figure(figsize=(5,5), facecolor='w')\n",
    "ax = fig.add_subplot(111)\n",
    "ax.plot(av_results['day'], av_results['accuracy']*100, label='Accuracy')\n",
    "ax.plot(av_results['day'], av_results['mean_probability']*100, \n",
    "        label='Reported probability of predicted class')\n",
    "ax.set_xlabel('Day after condition starts')\n",
    "ax.set_ylabel('Learning machine performance (%)')\n",
    "ax.set_title('Random forest using multi-day data')\n",
    "\n",
    "plt.grid()\n",
    "plt.legend()\n",
    "plt.savefig('./rf_multi_day.png', dpi=300)\n",
    "plt.show()"
   ]
  }
 ],
 "metadata": {
  "kernelspec": {
   "display_name": "Python 3 (ipykernel)",
   "language": "python",
   "name": "python3"
  },
  "language_info": {
   "codemirror_mode": {
    "name": "ipython",
    "version": 3
   },
   "file_extension": ".py",
   "mimetype": "text/x-python",
   "name": "python",
   "nbconvert_exporter": "python",
   "pygments_lexer": "ipython3",
   "version": "3.9.7"
  }
 },
 "nbformat": 4,
 "nbformat_minor": 5
}
