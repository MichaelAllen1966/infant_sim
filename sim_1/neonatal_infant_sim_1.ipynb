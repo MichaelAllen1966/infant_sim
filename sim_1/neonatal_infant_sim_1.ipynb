{
 "cells": [
  {
   "cell_type": "markdown",
   "metadata": {
    "collapsed": true,
    "pycharm": {
     "name": "#%% md\n"
    }
   },
   "source": [
    "# Neonatal infant simulator"
   ]
  },
  {
   "cell_type": "code",
   "execution_count": 5,
   "outputs": [],
   "source": [
    "from sim_utils.global_variables import GlobVars\n",
    "from sim_utils.patient import Patient"
   ],
   "metadata": {
    "collapsed": false,
    "pycharm": {
     "name": "#%%\n"
    }
   }
  },
  {
   "cell_type": "code",
   "execution_count": 6,
   "outputs": [],
   "source": [
    "# Set up global variables object\n",
    "global_vars = GlobVars()"
   ],
   "metadata": {
    "collapsed": false,
    "pycharm": {
     "name": "#%%\n"
    }
   }
  },
  {
   "cell_type": "code",
   "execution_count": 9,
   "outputs": [
    {
     "name": "stdout",
     "output_type": "stream",
     "text": [
      "Generating patient 5 of 5"
     ]
    }
   ],
   "source": [
    "number_of_patient_records_to_generate = 5\n",
    "for i in range(number_of_patient_records_to_generate):\n",
    "    print (f'\\rGenerating patient {i+1} of {number_of_patient_records_to_generate}', end='')\n",
    "    patient = Patient(global_vars)\n",
    "    patient.loop_through_days()"
   ],
   "metadata": {
    "collapsed": false,
    "pycharm": {
     "name": "#%%\n"
    }
   }
  },
  {
   "cell_type": "code",
   "execution_count": 10,
   "outputs": [
    {
     "data": {
      "text/plain": "     general   gi  pulmonary  brain  label\n0         54   58         57     54      2\n1         55   55         57     57      2\n2         56   56         57     54      2\n3         53   60         60     53      2\n4         53   60         62     54      2\n..       ...  ...        ...    ...    ...\n96         1  100        100      0      2\n97         2  100         98      0      2\n98         0   98         99      1      2\n99         0  100         99      1      2\n100        0  100         99      2      2\n\n[101 rows x 5 columns]",
      "text/html": "<div>\n<style scoped>\n    .dataframe tbody tr th:only-of-type {\n        vertical-align: middle;\n    }\n\n    .dataframe tbody tr th {\n        vertical-align: top;\n    }\n\n    .dataframe thead th {\n        text-align: right;\n    }\n</style>\n<table border=\"1\" class=\"dataframe\">\n  <thead>\n    <tr style=\"text-align: right;\">\n      <th></th>\n      <th>general</th>\n      <th>gi</th>\n      <th>pulmonary</th>\n      <th>brain</th>\n      <th>label</th>\n    </tr>\n  </thead>\n  <tbody>\n    <tr>\n      <th>0</th>\n      <td>54</td>\n      <td>58</td>\n      <td>57</td>\n      <td>54</td>\n      <td>2</td>\n    </tr>\n    <tr>\n      <th>1</th>\n      <td>55</td>\n      <td>55</td>\n      <td>57</td>\n      <td>57</td>\n      <td>2</td>\n    </tr>\n    <tr>\n      <th>2</th>\n      <td>56</td>\n      <td>56</td>\n      <td>57</td>\n      <td>54</td>\n      <td>2</td>\n    </tr>\n    <tr>\n      <th>3</th>\n      <td>53</td>\n      <td>60</td>\n      <td>60</td>\n      <td>53</td>\n      <td>2</td>\n    </tr>\n    <tr>\n      <th>4</th>\n      <td>53</td>\n      <td>60</td>\n      <td>62</td>\n      <td>54</td>\n      <td>2</td>\n    </tr>\n    <tr>\n      <th>...</th>\n      <td>...</td>\n      <td>...</td>\n      <td>...</td>\n      <td>...</td>\n      <td>...</td>\n    </tr>\n    <tr>\n      <th>96</th>\n      <td>1</td>\n      <td>100</td>\n      <td>100</td>\n      <td>0</td>\n      <td>2</td>\n    </tr>\n    <tr>\n      <th>97</th>\n      <td>2</td>\n      <td>100</td>\n      <td>98</td>\n      <td>0</td>\n      <td>2</td>\n    </tr>\n    <tr>\n      <th>98</th>\n      <td>0</td>\n      <td>98</td>\n      <td>99</td>\n      <td>1</td>\n      <td>2</td>\n    </tr>\n    <tr>\n      <th>99</th>\n      <td>0</td>\n      <td>100</td>\n      <td>99</td>\n      <td>1</td>\n      <td>2</td>\n    </tr>\n    <tr>\n      <th>100</th>\n      <td>0</td>\n      <td>100</td>\n      <td>99</td>\n      <td>2</td>\n      <td>2</td>\n    </tr>\n  </tbody>\n</table>\n<p>101 rows × 5 columns</p>\n</div>"
     },
     "execution_count": 10,
     "metadata": {},
     "output_type": "execute_result"
    }
   ],
   "source": [
    "patient.observations"
   ],
   "metadata": {
    "collapsed": false,
    "pycharm": {
     "name": "#%%\n"
    }
   }
  },
  {
   "cell_type": "code",
   "execution_count": 8,
   "outputs": [],
   "source": [],
   "metadata": {
    "collapsed": false,
    "pycharm": {
     "name": "#%%\n"
    }
   }
  }
 ],
 "metadata": {
  "kernelspec": {
   "display_name": "Python 3",
   "language": "python",
   "name": "python3"
  },
  "language_info": {
   "codemirror_mode": {
    "name": "ipython",
    "version": 2
   },
   "file_extension": ".py",
   "mimetype": "text/x-python",
   "name": "python",
   "nbconvert_exporter": "python",
   "pygments_lexer": "ipython2",
   "version": "2.7.6"
  }
 },
 "nbformat": 4,
 "nbformat_minor": 0
}