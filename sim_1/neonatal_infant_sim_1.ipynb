{
 "cells": [
  {
   "cell_type": "markdown",
   "metadata": {
    "collapsed": true,
    "pycharm": {
     "name": "#%% md\n"
    }
   },
   "source": [
    "# Neonatal infant simulator"
   ]
  },
  {
   "cell_type": "code",
   "execution_count": 1,
   "outputs": [],
   "source": [
    "from sim_utils.global_variables import GlobVars\n",
    "from sim_utils.patient import Patient"
   ],
   "metadata": {
    "collapsed": false,
    "pycharm": {
     "name": "#%%\n"
    }
   }
  },
  {
   "cell_type": "code",
   "execution_count": 2,
   "outputs": [],
   "source": [
    "# Set up global variables object\n",
    "global_vars = GlobVars()"
   ],
   "metadata": {
    "collapsed": false,
    "pycharm": {
     "name": "#%%\n"
    }
   }
  },
  {
   "cell_type": "code",
   "execution_count": 3,
   "outputs": [
    {
     "name": "stdout",
     "output_type": "stream",
     "text": [
      "Generating patient 5 of 5"
     ]
    }
   ],
   "source": [
    "number_of_patient_records_to_generate = 5\n",
    "for i in range(number_of_patient_records_to_generate):\n",
    "    print (f'\\rGenerating patient {i+1} of {number_of_patient_records_to_generate}', end='')\n",
    "    patient = Patient(global_vars)\n",
    "    patient.loop_through_days()"
   ],
   "metadata": {
    "collapsed": false,
    "pycharm": {
     "name": "#%%\n"
    }
   }
  },
  {
   "cell_type": "code",
   "execution_count": 4,
   "outputs": [
    {
     "data": {
      "text/plain": "101"
     },
     "execution_count": 4,
     "metadata": {},
     "output_type": "execute_result"
    }
   ],
   "source": [
    "len(patient.health)"
   ],
   "metadata": {
    "collapsed": false,
    "pycharm": {
     "name": "#%%\n"
    }
   }
  },
  {
   "cell_type": "code",
   "execution_count": 5,
   "outputs": [
    {
     "data": {
      "text/plain": "[{'general': 36, 'gi': 36, 'pulmonary': 36, 'brain': 36},\n {'general': 35, 'gi': 35, 'pulmonary': 35, 'brain': 35},\n {'general': 34, 'gi': 34, 'pulmonary': 34, 'brain': 34},\n {'general': 33, 'gi': 33, 'pulmonary': 33, 'brain': 33},\n {'general': 32, 'gi': 32, 'pulmonary': 32, 'brain': 32},\n {'general': 31, 'gi': 31, 'pulmonary': 31, 'brain': 31},\n {'general': 30, 'gi': 30, 'pulmonary': 30, 'brain': 30},\n {'general': 29, 'gi': 29, 'pulmonary': 29, 'brain': 29},\n {'general': 28, 'gi': 28, 'pulmonary': 28, 'brain': 28},\n {'general': 27, 'gi': 27, 'pulmonary': 27, 'brain': 27},\n {'general': 26, 'gi': 26, 'pulmonary': 26, 'brain': 26},\n {'general': 25, 'gi': 25, 'pulmonary': 25, 'brain': 25},\n {'general': 24, 'gi': 24, 'pulmonary': 24, 'brain': 24},\n {'general': 23, 'gi': 23, 'pulmonary': 23, 'brain': 23},\n {'general': 22, 'gi': 22, 'pulmonary': 22, 'brain': 22},\n {'general': 21, 'gi': 21, 'pulmonary': 21, 'brain': 21},\n {'general': 20, 'gi': 20, 'pulmonary': 20, 'brain': 20},\n {'general': 19, 'gi': 19, 'pulmonary': 19, 'brain': 19},\n {'general': 18, 'gi': 18, 'pulmonary': 18, 'brain': 18},\n {'general': 17, 'gi': 17, 'pulmonary': 17, 'brain': 17},\n {'general': 16, 'gi': 16, 'pulmonary': 16, 'brain': 16},\n {'general': 15, 'gi': 15, 'pulmonary': 15, 'brain': 15},\n {'general': 14, 'gi': 14, 'pulmonary': 14, 'brain': 14},\n {'general': 13, 'gi': 13, 'pulmonary': 13, 'brain': 13},\n {'general': 12, 'gi': 12, 'pulmonary': 12, 'brain': 12},\n {'general': 11, 'gi': 11, 'pulmonary': 11, 'brain': 11},\n {'general': 10, 'gi': 10, 'pulmonary': 10, 'brain': 10},\n {'general': 9, 'gi': 9, 'pulmonary': 9, 'brain': 9},\n {'general': 8, 'gi': 8, 'pulmonary': 8, 'brain': 8},\n {'general': 7, 'gi': 7, 'pulmonary': 7, 'brain': 7},\n {'general': 6, 'gi': 6, 'pulmonary': 6, 'brain': 6},\n {'general': 5, 'gi': 5, 'pulmonary': 5, 'brain': 5},\n {'general': 4, 'gi': 4, 'pulmonary': 4, 'brain': 4},\n {'general': 3, 'gi': 3, 'pulmonary': 3, 'brain': 3},\n {'general': 2, 'gi': 2, 'pulmonary': 2, 'brain': 2},\n {'general': 1, 'gi': 1, 'pulmonary': 1, 'brain': 1},\n {'general': 0, 'gi': 0, 'pulmonary': 0, 'brain': 0},\n {'general': 0, 'gi': 0, 'pulmonary': 0, 'brain': 0},\n {'general': 0, 'gi': 0, 'pulmonary': 0, 'brain': 0},\n {'general': 0, 'gi': 0, 'pulmonary': 0, 'brain': 0},\n {'general': 0, 'gi': 0, 'pulmonary': 0, 'brain': 0},\n {'general': 0, 'gi': 0, 'pulmonary': 0, 'brain': 0},\n {'general': 0, 'gi': 0, 'pulmonary': 0, 'brain': 0},\n {'general': 0, 'gi': 0, 'pulmonary': 0, 'brain': 0},\n {'general': 0, 'gi': 0, 'pulmonary': 0, 'brain': 0},\n {'general': 0, 'gi': 0, 'pulmonary': 0, 'brain': 0},\n {'general': 0, 'gi': 0, 'pulmonary': 0, 'brain': 0},\n {'general': 0, 'gi': 0, 'pulmonary': 0, 'brain': 0},\n {'general': 0, 'gi': 0, 'pulmonary': 0, 'brain': 0},\n {'general': 0, 'gi': 0, 'pulmonary': 0, 'brain': 0},\n {'general': 0, 'gi': 0, 'pulmonary': 0, 'brain': 0},\n {'general': 0, 'gi': 0, 'pulmonary': 0, 'brain': 0},\n {'general': 0, 'gi': 0, 'pulmonary': 0, 'brain': 0},\n {'general': 0, 'gi': 0, 'pulmonary': 0, 'brain': 0},\n {'general': 0, 'gi': 0, 'pulmonary': 0, 'brain': 0},\n {'general': 0, 'gi': 0, 'pulmonary': 0, 'brain': 0},\n {'general': 0, 'gi': 0, 'pulmonary': 0, 'brain': 0},\n {'general': 0, 'gi': 0, 'pulmonary': 0, 'brain': 0},\n {'general': 0, 'gi': 0, 'pulmonary': 0, 'brain': 0},\n {'general': 0, 'gi': 0, 'pulmonary': 0, 'brain': 0},\n {'general': 0, 'gi': 0, 'pulmonary': 0, 'brain': 0},\n {'general': 0, 'gi': 0, 'pulmonary': 0, 'brain': 0},\n {'general': 0, 'gi': 0, 'pulmonary': 0, 'brain': 0},\n {'general': 0, 'gi': 0, 'pulmonary': 0, 'brain': 0},\n {'general': 0, 'gi': 0, 'pulmonary': 0, 'brain': 0},\n {'general': 0, 'gi': 0, 'pulmonary': 0, 'brain': 0},\n {'general': 0, 'gi': 0, 'pulmonary': 0, 'brain': 0},\n {'general': 0, 'gi': 0, 'pulmonary': 0, 'brain': 0},\n {'general': 0, 'gi': 0, 'pulmonary': 0, 'brain': 0},\n {'general': 0, 'gi': 0, 'pulmonary': 0, 'brain': 0},\n {'general': 0, 'gi': 0, 'pulmonary': 0, 'brain': 0},\n {'general': 0, 'gi': 0, 'pulmonary': 0, 'brain': 0},\n {'general': 0, 'gi': 0, 'pulmonary': 0, 'brain': 0},\n {'general': 0, 'gi': 0, 'pulmonary': 0, 'brain': 0},\n {'general': 0, 'gi': 0, 'pulmonary': 0, 'brain': 0},\n {'general': 0, 'gi': 0, 'pulmonary': 0, 'brain': 0},\n {'general': 0, 'gi': 0, 'pulmonary': 0, 'brain': 0},\n {'general': 0, 'gi': 0, 'pulmonary': 0, 'brain': 0},\n {'general': 0, 'gi': 0, 'pulmonary': 0, 'brain': 0},\n {'general': 0, 'gi': 0, 'pulmonary': 0, 'brain': 0},\n {'general': 0, 'gi': 0, 'pulmonary': 0, 'brain': 0},\n {'general': 0, 'gi': 0, 'pulmonary': 0, 'brain': 0},\n {'general': 0, 'gi': 0, 'pulmonary': 0, 'brain': 0},\n {'general': 0, 'gi': 0, 'pulmonary': 0, 'brain': 0},\n {'general': 0, 'gi': 0, 'pulmonary': 0, 'brain': 0},\n {'general': 0, 'gi': 0, 'pulmonary': 0, 'brain': 0},\n {'general': 0, 'gi': 0, 'pulmonary': 0, 'brain': 0},\n {'general': 0, 'gi': 0, 'pulmonary': 0, 'brain': 0},\n {'general': 0, 'gi': 0, 'pulmonary': 0, 'brain': 0},\n {'general': 0, 'gi': 0, 'pulmonary': 0, 'brain': 0},\n {'general': 0, 'gi': 0, 'pulmonary': 0, 'brain': 0},\n {'general': 0, 'gi': 0, 'pulmonary': 0, 'brain': 0},\n {'general': 0, 'gi': 0, 'pulmonary': 0, 'brain': 0},\n {'general': 0, 'gi': 0, 'pulmonary': 0, 'brain': 0},\n {'general': 0, 'gi': 0, 'pulmonary': 0, 'brain': 0},\n {'general': 0, 'gi': 0, 'pulmonary': 0, 'brain': 0},\n {'general': 0, 'gi': 0, 'pulmonary': 0, 'brain': 0},\n {'general': 0, 'gi': 0, 'pulmonary': 0, 'brain': 0},\n {'general': 0, 'gi': 0, 'pulmonary': 0, 'brain': 0},\n {'general': 0, 'gi': 0, 'pulmonary': 0, 'brain': 0},\n {'general': 0, 'gi': 0, 'pulmonary': 0, 'brain': 0}]"
     },
     "execution_count": 5,
     "metadata": {},
     "output_type": "execute_result"
    }
   ],
   "source": [
    "patient.health"
   ],
   "metadata": {
    "collapsed": false,
    "pycharm": {
     "name": "#%%\n"
    }
   }
  },
  {
   "cell_type": "code",
   "execution_count": 6,
   "outputs": [
    {
     "data": {
      "text/plain": "{'general': 36, 'gi': 36, 'pulmonary': 36, 'brain': 36}"
     },
     "execution_count": 6,
     "metadata": {},
     "output_type": "execute_result"
    }
   ],
   "source": [
    "patient.health[0]"
   ],
   "metadata": {
    "collapsed": false,
    "pycharm": {
     "name": "#%%\n"
    }
   }
  },
  {
   "cell_type": "code",
   "execution_count": 6,
   "outputs": [],
   "source": [],
   "metadata": {
    "collapsed": false,
    "pycharm": {
     "name": "#%%\n"
    }
   }
  }
 ],
 "metadata": {
  "kernelspec": {
   "display_name": "Python 3",
   "language": "python",
   "name": "python3"
  },
  "language_info": {
   "codemirror_mode": {
    "name": "ipython",
    "version": 2
   },
   "file_extension": ".py",
   "mimetype": "text/x-python",
   "name": "python",
   "nbconvert_exporter": "python",
   "pygments_lexer": "ipython2",
   "version": "2.7.6"
  }
 },
 "nbformat": 4,
 "nbformat_minor": 0
}