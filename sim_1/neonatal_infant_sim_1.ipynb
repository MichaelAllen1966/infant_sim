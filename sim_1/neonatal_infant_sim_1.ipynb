{
 "cells": [
  {
   "cell_type": "markdown",
   "metadata": {
    "collapsed": true,
    "pycharm": {
     "name": "#%% md\n"
    }
   },
   "source": [
    "# Neonatal infant simulator"
   ]
  },
  {
   "cell_type": "code",
   "execution_count": 1,
   "outputs": [],
   "source": [
    "from sim_utils.global_variables import GlobVars\n",
    "from sim_utils.patient import Patient"
   ],
   "metadata": {
    "collapsed": false,
    "pycharm": {
     "name": "#%%\n"
    }
   }
  },
  {
   "cell_type": "code",
   "execution_count": 2,
   "outputs": [],
   "source": [
    "# Set up global variables object\n",
    "global_vars = GlobVars()"
   ],
   "metadata": {
    "collapsed": false,
    "pycharm": {
     "name": "#%%\n"
    }
   }
  },
  {
   "cell_type": "code",
   "execution_count": 3,
   "outputs": [
    {
     "name": "stdout",
     "output_type": "stream",
     "text": [
      "Generating patient 5 of 5"
     ]
    }
   ],
   "source": [
    "number_of_patient_records_to_generate = 5\n",
    "for i in range(number_of_patient_records_to_generate):\n",
    "    print (f'\\rGenerating patient {i+1} of {number_of_patient_records_to_generate}', end='')\n",
    "    patient = Patient(global_vars)\n",
    "    patient.loop_through_days()"
   ],
   "metadata": {
    "collapsed": false,
    "pycharm": {
     "name": "#%%\n"
    }
   }
  },
  {
   "cell_type": "code",
   "execution_count": 4,
   "outputs": [
    {
     "data": {
      "text/plain": "     general   gi  pulmonary  brain\n0         39   44         40     42\n1         42   40         39     43\n2         42   40         42     41\n3         42   43         43     41\n4         48   40         42     42\n..       ...  ...        ...    ...\n96        98   98        101    100\n97        98  100         99    102\n98        98   99        102     98\n99        98  101        102    101\n100       98  100        100    102\n\n[101 rows x 4 columns]",
      "text/html": "<div>\n<style scoped>\n    .dataframe tbody tr th:only-of-type {\n        vertical-align: middle;\n    }\n\n    .dataframe tbody tr th {\n        vertical-align: top;\n    }\n\n    .dataframe thead th {\n        text-align: right;\n    }\n</style>\n<table border=\"1\" class=\"dataframe\">\n  <thead>\n    <tr style=\"text-align: right;\">\n      <th></th>\n      <th>general</th>\n      <th>gi</th>\n      <th>pulmonary</th>\n      <th>brain</th>\n    </tr>\n  </thead>\n  <tbody>\n    <tr>\n      <th>0</th>\n      <td>39</td>\n      <td>44</td>\n      <td>40</td>\n      <td>42</td>\n    </tr>\n    <tr>\n      <th>1</th>\n      <td>42</td>\n      <td>40</td>\n      <td>39</td>\n      <td>43</td>\n    </tr>\n    <tr>\n      <th>2</th>\n      <td>42</td>\n      <td>40</td>\n      <td>42</td>\n      <td>41</td>\n    </tr>\n    <tr>\n      <th>3</th>\n      <td>42</td>\n      <td>43</td>\n      <td>43</td>\n      <td>41</td>\n    </tr>\n    <tr>\n      <th>4</th>\n      <td>48</td>\n      <td>40</td>\n      <td>42</td>\n      <td>42</td>\n    </tr>\n    <tr>\n      <th>...</th>\n      <td>...</td>\n      <td>...</td>\n      <td>...</td>\n      <td>...</td>\n    </tr>\n    <tr>\n      <th>96</th>\n      <td>98</td>\n      <td>98</td>\n      <td>101</td>\n      <td>100</td>\n    </tr>\n    <tr>\n      <th>97</th>\n      <td>98</td>\n      <td>100</td>\n      <td>99</td>\n      <td>102</td>\n    </tr>\n    <tr>\n      <th>98</th>\n      <td>98</td>\n      <td>99</td>\n      <td>102</td>\n      <td>98</td>\n    </tr>\n    <tr>\n      <th>99</th>\n      <td>98</td>\n      <td>101</td>\n      <td>102</td>\n      <td>101</td>\n    </tr>\n    <tr>\n      <th>100</th>\n      <td>98</td>\n      <td>100</td>\n      <td>100</td>\n      <td>102</td>\n    </tr>\n  </tbody>\n</table>\n<p>101 rows × 4 columns</p>\n</div>"
     },
     "execution_count": 4,
     "metadata": {},
     "output_type": "execute_result"
    }
   ],
   "source": [
    "patient.observations"
   ],
   "metadata": {
    "collapsed": false,
    "pycharm": {
     "name": "#%%\n"
    }
   }
  },
  {
   "cell_type": "code",
   "execution_count": 4,
   "outputs": [],
   "source": [],
   "metadata": {
    "collapsed": false,
    "pycharm": {
     "name": "#%%\n"
    }
   }
  }
 ],
 "metadata": {
  "kernelspec": {
   "display_name": "Python 3",
   "language": "python",
   "name": "python3"
  },
  "language_info": {
   "codemirror_mode": {
    "name": "ipython",
    "version": 2
   },
   "file_extension": ".py",
   "mimetype": "text/x-python",
   "name": "python",
   "nbconvert_exporter": "python",
   "pygments_lexer": "ipython2",
   "version": "2.7.6"
  }
 },
 "nbformat": 4,
 "nbformat_minor": 0
}